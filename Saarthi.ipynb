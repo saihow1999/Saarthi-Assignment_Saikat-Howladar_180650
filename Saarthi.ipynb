{
  "nbformat": 4,
  "nbformat_minor": 0,
  "metadata": {
    "colab": {
      "name": "Saarthi.ipynb",
      "provenance": [],
      "collapsed_sections": [
        "oR2kBjEQF5yI",
        "BTFXIwos2kzn"
      ]
    },
    "kernelspec": {
      "name": "python3",
      "display_name": "Python 3"
    },
    "language_info": {
      "name": "python"
    }
  },
  "cells": [
    {
      "cell_type": "markdown",
      "metadata": {
        "id": "3UQRQCHkBrMn"
      },
      "source": [
        "Answer 1"
      ]
    },
    {
      "cell_type": "code",
      "metadata": {
        "id": "U6qrb4_mvd6E"
      },
      "source": [
        "with open(\"/content/Utterances.txt\") as file_in:\n",
        "    lines = []\n",
        "    for line in file_in:\n",
        "        line = line.replace(\"\\n\",\"\")\n",
        "        lines.append(line)"
      ],
      "execution_count": 3,
      "outputs": []
    },
    {
      "cell_type": "code",
      "metadata": {
        "id": "Qfl8vGGS9U5w"
      },
      "source": [
        "from sklearn.feature_extraction.text import TfidfVectorizer\n",
        "from sklearn.cluster import KMeans\n",
        "import numpy as np\n",
        "import pandas as pd"
      ],
      "execution_count": 1,
      "outputs": []
    },
    {
      "cell_type": "code",
      "metadata": {
        "colab": {
          "base_uri": "https://localhost:8080/"
        },
        "id": "vfnCz3sn9Vb1",
        "outputId": "281cd1fd-8c42-42da-8a15-d7ad05226076"
      },
      "source": [
        "vectorizer = TfidfVectorizer(stop_words='english')\n",
        "X = vectorizer.fit_transform(lines)\n",
        "model = KMeans(n_clusters=5, init='k-means++', max_iter=100, n_init=1)\n",
        "model.fit(X)\n",
        "order_centroids = model.cluster_centers_.argsort()[:, ::-1]\n",
        "terms = vectorizer.get_feature_names()"
      ],
      "execution_count": 30,
      "outputs": [
        {
          "output_type": "stream",
          "name": "stderr",
          "text": [
            "/usr/local/lib/python3.7/dist-packages/sklearn/utils/deprecation.py:87: FutureWarning: Function get_feature_names is deprecated; get_feature_names is deprecated in 1.0 and will be removed in 1.2. Please use get_feature_names_out instead.\n",
            "  warnings.warn(msg, category=FutureWarning)\n"
          ]
        }
      ]
    },
    {
      "cell_type": "code",
      "metadata": {
        "colab": {
          "base_uri": "https://localhost:8080/"
        },
        "id": "8f7J-WQH9pzg",
        "outputId": "572102d9-fb38-434a-fdf5-5df974de74f5"
      },
      "source": [
        "## Classifying all the unlabeled utterances\n",
        "for i in range(true_k):\n",
        "  print(\"Cluster %d:\" % i),\n",
        "  for ind in order_centroids[i, :10]:\n",
        "    print(\" %s\" % terms[ind])\n",
        "  print(\"\\n\")"
      ],
      "execution_count": 41,
      "outputs": [
        {
          "output_type": "stream",
          "name": "stdout",
          "text": [
            "Cluster 0:\n",
            " thanks\n",
            " hello\n",
            " solve\n",
            " problem\n",
            " friend\n",
            " lot\n",
            " ton\n",
            " mate\n",
            " doing\n",
            " dear\n",
            "\n",
            "\n",
            "Cluster 1:\n",
            " provide\n",
            " marketing\n",
            " sales\n",
            " service\n",
            " services\n",
            " assistance\n",
            " help\n",
            " generation\n",
            " lead\n",
            " customer\n",
            "\n",
            "\n",
            "Cluster 2:\n",
            " help\n",
            " tell\n",
            " things\n",
            " chance\n",
            " bye\n",
            " yes\n",
            " contact\n",
            " good\n",
            " awesome\n",
            " nope\n",
            "\n",
            "\n",
            "Cluster 3:\n",
            " going\n",
            " day\n",
            " things\n",
            " good\n",
            " whats\n",
            " hey\n",
            " yip\n",
            " friend\n",
            " fast\n",
            " food\n",
            "\n",
            "\n",
            "Cluster 4:\n",
            " purpose\n",
            " yip\n",
            " expertise\n",
            " goodbye\n",
            " good\n",
            " going\n",
            " glad\n",
            " generation\n",
            " functions\n",
            " friend\n",
            "\n",
            "\n"
          ]
        }
      ]
    },
    {
      "cell_type": "markdown",
      "metadata": {
        "id": "7Td2e29LB8Rq"
      },
      "source": [
        "Answer 2"
      ]
    },
    {
      "cell_type": "code",
      "metadata": {
        "colab": {
          "base_uri": "https://localhost:8080/",
          "height": 35
        },
        "id": "Gzn1oTYsB-ix",
        "outputId": "ec169767-2304-40eb-ef71-70a631478961"
      },
      "source": [
        "\"\"\" Cluster0: Questions\n",
        "    Cluster1: Appreciations\n",
        "    Cluster2: Expressions \n",
        "    Cluster3: Hurray\n",
        "    Cluster4: Grateful\"\"\""
      ],
      "execution_count": 42,
      "outputs": [
        {
          "output_type": "execute_result",
          "data": {
            "application/vnd.google.colaboratory.intrinsic+json": {
              "type": "string"
            },
            "text/plain": [
              "' Cluster0: Questions\\n    Cluster1: Appreciations\\n    Cluster2: Expressions \\n    Cluster3: Hurray\\n    Cluster4: Grateful'"
            ]
          },
          "metadata": {},
          "execution_count": 42
        }
      ]
    },
    {
      "cell_type": "markdown",
      "metadata": {
        "id": "wPZXmyWGCsUl"
      },
      "source": [
        "Answer 3\n"
      ]
    },
    {
      "cell_type": "code",
      "metadata": {
        "id": "9wpd3n1ADYU9"
      },
      "source": [
        "import pandas as pd"
      ],
      "execution_count": 33,
      "outputs": []
    },
    {
      "cell_type": "code",
      "metadata": {
        "id": "46T2TURTCwAC"
      },
      "source": [
        "predictions = []\n",
        "for each in lines:\n",
        "  X = vectorizer.transform([each])\n",
        "  predicted = model.predict(X)\n",
        "  predictions.append(predicted)"
      ],
      "execution_count": 34,
      "outputs": []
    },
    {
      "cell_type": "code",
      "metadata": {
        "id": "sy74xfTADcI_"
      },
      "source": [
        "df1 = pd.DataFrame()\n",
        "df1.insert(loc=0, column='Sentences', value=lines)\n",
        "df1.insert(loc=1, column='Predicted_Cluster', value=predictions)"
      ],
      "execution_count": 35,
      "outputs": []
    },
    {
      "cell_type": "code",
      "metadata": {
        "id": "C4SfKLfDD_jG"
      },
      "source": [
        "df1.to_excel(f\"Cluster_Prediction.xlsx\")"
      ],
      "execution_count": 36,
      "outputs": []
    },
    {
      "cell_type": "code",
      "metadata": {
        "colab": {
          "base_uri": "https://localhost:8080/",
          "height": 423
        },
        "id": "X86y6LLrEAIe",
        "outputId": "a8af032a-f27d-4fc6-f02c-e6c36db39b75"
      },
      "source": [
        "df1"
      ],
      "execution_count": 37,
      "outputs": [
        {
          "output_type": "execute_result",
          "data": {
            "text/html": [
              "<div>\n",
              "<style scoped>\n",
              "    .dataframe tbody tr th:only-of-type {\n",
              "        vertical-align: middle;\n",
              "    }\n",
              "\n",
              "    .dataframe tbody tr th {\n",
              "        vertical-align: top;\n",
              "    }\n",
              "\n",
              "    .dataframe thead th {\n",
              "        text-align: right;\n",
              "    }\n",
              "</style>\n",
              "<table border=\"1\" class=\"dataframe\">\n",
              "  <thead>\n",
              "    <tr style=\"text-align: right;\">\n",
              "      <th></th>\n",
              "      <th>Sentences</th>\n",
              "      <th>Predicted_Cluster</th>\n",
              "    </tr>\n",
              "  </thead>\n",
              "  <tbody>\n",
              "    <tr>\n",
              "      <th>0</th>\n",
              "      <td>I am looking for a sales and marketing chatbot.</td>\n",
              "      <td>[1]</td>\n",
              "    </tr>\n",
              "    <tr>\n",
              "      <th>1</th>\n",
              "      <td>How you doin</td>\n",
              "      <td>[2]</td>\n",
              "    </tr>\n",
              "    <tr>\n",
              "      <th>2</th>\n",
              "      <td>Do you provide service in agriculture domain.</td>\n",
              "      <td>[1]</td>\n",
              "    </tr>\n",
              "    <tr>\n",
              "      <th>3</th>\n",
              "      <td>Awesome</td>\n",
              "      <td>[2]</td>\n",
              "    </tr>\n",
              "    <tr>\n",
              "      <th>4</th>\n",
              "      <td>I have a small food delivery business in my re...</td>\n",
              "      <td>[2]</td>\n",
              "    </tr>\n",
              "    <tr>\n",
              "      <th>...</th>\n",
              "      <td>...</td>\n",
              "      <td>...</td>\n",
              "    </tr>\n",
              "    <tr>\n",
              "      <th>258</th>\n",
              "      <td>Got to go</td>\n",
              "      <td>[2]</td>\n",
              "    </tr>\n",
              "    <tr>\n",
              "      <th>259</th>\n",
              "      <td>Please tell me how you can help me</td>\n",
              "      <td>[2]</td>\n",
              "    </tr>\n",
              "    <tr>\n",
              "      <th>260</th>\n",
              "      <td>I want to automate my customer service, do you...</td>\n",
              "      <td>[1]</td>\n",
              "    </tr>\n",
              "    <tr>\n",
              "      <th>261</th>\n",
              "      <td>no way</td>\n",
              "      <td>[2]</td>\n",
              "    </tr>\n",
              "    <tr>\n",
              "      <th>262</th>\n",
              "      <td>Bravo</td>\n",
              "      <td>[2]</td>\n",
              "    </tr>\n",
              "  </tbody>\n",
              "</table>\n",
              "<p>263 rows × 2 columns</p>\n",
              "</div>"
            ],
            "text/plain": [
              "                                             Sentences Predicted_Cluster\n",
              "0      I am looking for a sales and marketing chatbot.               [1]\n",
              "1                                         How you doin               [2]\n",
              "2        Do you provide service in agriculture domain.               [1]\n",
              "3                                              Awesome               [2]\n",
              "4    I have a small food delivery business in my re...               [2]\n",
              "..                                                 ...               ...\n",
              "258                                          Got to go               [2]\n",
              "259                 Please tell me how you can help me               [2]\n",
              "260  I want to automate my customer service, do you...               [1]\n",
              "261                                             no way               [2]\n",
              "262                                              Bravo               [2]\n",
              "\n",
              "[263 rows x 2 columns]"
            ]
          },
          "metadata": {},
          "execution_count": 37
        }
      ]
    },
    {
      "cell_type": "markdown",
      "metadata": {
        "id": "1lG7i8TLF_qt"
      },
      "source": [
        "Answer 4"
      ]
    },
    {
      "cell_type": "code",
      "metadata": {
        "id": "pCEzx9mXHfjc"
      },
      "source": [
        "## Config.yml file of rasa \n",
        "\n",
        "language: \"en\"  \n",
        "pipeline:\n",
        "  - name: WhitespaceTokenizer\n",
        "  - name: RegexFeaturizer\n",
        "  - name: LexicalSyntacticFeaturizer\n",
        "  - name: CountVectorsFeaturizer\n",
        "  - name: CountVectorsFeaturizer\n",
        "    analyzer: \"char_wb\"\n",
        "    min_ngram: 1\n",
        "    max_ngram: 4\n",
        "  - name: DIETClassifier\n",
        "    epochs: 200\n",
        "  - name: EntitySynonymMapper\n",
        "  - name: ResponseSelector\n",
        "    epochs: 150"
      ],
      "execution_count": null,
      "outputs": []
    },
    {
      "cell_type": "code",
      "metadata": {
        "id": "7KeCuUi_HhIo"
      },
      "source": [
        ""
      ],
      "execution_count": null,
      "outputs": []
    },
    {
      "cell_type": "markdown",
      "metadata": {
        "id": "Lxz81ZVBGEnK"
      },
      "source": [
        "Answer 5"
      ]
    },
    {
      "cell_type": "code",
      "metadata": {
        "colab": {
          "base_uri": "https://localhost:8080/"
        },
        "id": "234_YFgekFlk",
        "outputId": "d6f8f2a1-0334-4d85-addf-e17c041ae2e7"
      },
      "source": [
        "from itertools import combinations\n",
        "e_list=[\"kolkata\",\"delhi\",\"mumbai\"]\n",
        "u_list=[\"How far is <> from <>\", \"How is the weather in <>\"]\n",
        "final = []\n",
        "for each in u_list:  \n",
        "  count_var = each.count(\"<>\")\n",
        "  if count_var > len(e_list):\n",
        "    print(\"Replacement not possible!\")\n",
        "    continue\n",
        "  else:\n",
        "    list_comb = combinations(e_list,count_var)\n",
        "    for each1 in list_comb:\n",
        "      exe_ = each\n",
        "      exe_2 = each  \n",
        "      for i in range(0,count_var):\n",
        "        exe_ = exe_.replace(\"<>\",each1[i],1)\n",
        "      if exe_ not in final:\n",
        "        final.append(exe_)    \n",
        "      for i in reversed(range(0,count_var)):\n",
        "        exe_2 = exe_2.replace(\"<>\",each1[i],1)\n",
        "      if exe_2 not in final:\n",
        "        final.append(exe_2)\n",
        "print(final)"
      ],
      "execution_count": 44,
      "outputs": [
        {
          "output_type": "stream",
          "name": "stdout",
          "text": [
            "['How far is kolkata from delhi', 'How far is delhi from kolkata', 'How far is kolkata from mumbai', 'How far is mumbai from kolkata', 'How far is delhi from mumbai', 'How far is mumbai from delhi', 'How is the weather in kolkata', 'How is the weather in delhi', 'How is the weather in mumbai']\n"
          ]
        }
      ]
    },
    {
      "cell_type": "markdown",
      "metadata": {
        "id": "kctoUF_EHFBp"
      },
      "source": [
        "Answer 6\n"
      ]
    },
    {
      "cell_type": "code",
      "metadata": {
        "colab": {
          "base_uri": "https://localhost:8080/"
        },
        "id": "leTR855RgCuQ",
        "outputId": "27db9125-b35a-4827-eaa3-b6214205b26f"
      },
      "source": [
        "dict_list=[{'name': 'affirm', 'confidence': 0.9448149204254}, {'name': 'affirm', 'confidence': 0.944814920425415}, {'name': 'inform', 'confidence': 0.9842240810394287}, {'name': 'inform', 'confidence': 0.9842240810394287}]\n",
        "unique = [ ]\n",
        "for each in dict_list:\n",
        "  if each not in unique:\n",
        "    unique.append(each)\n",
        "print(unique)"
      ],
      "execution_count": 154,
      "outputs": [
        {
          "output_type": "stream",
          "name": "stdout",
          "text": [
            "[{'name': 'affirm', 'confidence': 0.9448149204254}, {'name': 'affirm', 'confidence': 0.944814920425415}, {'name': 'inform', 'confidence': 0.9842240810394287}]\n"
          ]
        }
      ]
    },
    {
      "cell_type": "markdown",
      "metadata": {
        "id": "ReQzwKzHGdCD"
      },
      "source": [
        "Answer 7\n"
      ]
    },
    {
      "cell_type": "code",
      "metadata": {
        "colab": {
          "base_uri": "https://localhost:8080/"
        },
        "id": "JOED5g7dcRSr",
        "outputId": "196c34f6-08e2-4704-e9f9-dcd05e07dc43"
      },
      "source": [
        "import re\n",
        "pass_ = input(\"Enter your password: \")\n",
        "regex = re.compile(\"\"\" [!\"#$%&'()*+,-./:;<=>?@[\\]^_`{|}~] \"\"\")\n",
        "if len(pass_)< 6 or len(pass_)>16:\n",
        "  print(\"Bad Password!\")\n",
        "else:\n",
        "  if re.search(\".*[a-z]+.*\",pass_) and re.search(\".*[A-Z]+.*\",pass_) and re.search(\".*[0-9]+.*\",pass_) and regex.search(pass_) == None:\n",
        "    print(\"Good Password!\")\n",
        "  else:\n",
        "    print(\"Bad Password!\")"
      ],
      "execution_count": 45,
      "outputs": [
        {
          "output_type": "stream",
          "name": "stdout",
          "text": [
            "Enter your password: Saikat@99\n",
            "Good Password!\n"
          ]
        }
      ]
    },
    {
      "cell_type": "markdown",
      "metadata": {
        "id": "pgXyCqFYGWRw"
      },
      "source": [
        "Answer 8"
      ]
    },
    {
      "cell_type": "code",
      "metadata": {
        "colab": {
          "base_uri": "https://localhost:8080/"
        },
        "id": "RYoo7ScAb4o4",
        "outputId": "0a7e59a7-3fa9-47af-9f6a-d7846a80f5c8"
      },
      "source": [
        "from collections import Counter as ctr\n",
        "d1 = {'a': 100, 'b': 200, 'c':300}\n",
        "d2 = {'a': 300, 'b': 200, 'd':400}\n",
        "d3 = ctr(d1)+ctr(d2)\n",
        "print(d3)"
      ],
      "execution_count": 39,
      "outputs": [
        {
          "output_type": "stream",
          "name": "stdout",
          "text": [
            "Counter({'a': 400, 'b': 400, 'd': 400, 'c': 300})\n"
          ]
        }
      ]
    }
  ]
}